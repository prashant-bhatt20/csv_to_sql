{
 "cells": [
  {
   "cell_type": "code",
   "execution_count": null,
   "metadata": {},
   "outputs": [],
   "source": [
    "#IMPORTING LIBRARIES"
   ]
  },
  {
   "cell_type": "code",
   "execution_count": null,
   "metadata": {},
   "outputs": [],
   "source": [
    "import pandas as pd\n",
    "import numpy as np\n",
    "import csv\n",
    "#import MySQLdb\n",
    "import pymysql\n",
    "pymysql.install_as_MySQLdb()\n",
    "import time"
   ]
  },
  {
   "cell_type": "code",
   "execution_count": null,
   "metadata": {},
   "outputs": [],
   "source": [
    "#LOADING CSV WITH MORE THAN 65K ROWS WHICH IS SLICED TO 50K"
   ]
  },
  {
   "cell_type": "code",
   "execution_count": null,
   "metadata": {},
   "outputs": [],
   "source": [
    "df=pd.read_csv('business_price_indexes_june_2019.csv')\n",
    "df=df[['Series_reference','Period','Data_value','STATUS','Subject']]\n",
    "df=df.iloc[:50000,:]\n",
    "df.head()"
   ]
  },
  {
   "cell_type": "code",
   "execution_count": null,
   "metadata": {},
   "outputs": [],
   "source": [
    "df.info()"
   ]
  },
  {
   "cell_type": "code",
   "execution_count": null,
   "metadata": {},
   "outputs": [],
   "source": [
    "\n",
    "df.shape"
   ]
  },
  {
   "cell_type": "code",
   "execution_count": null,
   "metadata": {},
   "outputs": [],
   "source": [
    "#ASSUMING THE DB IS ALREADY CREATED IN THE DATABASE WITH A TABLE NAME TESTCSV"
   ]
  },
  {
   "cell_type": "markdown",
   "metadata": {},
   "source": [
    "CREATE TABLE `csv_sql`.`testcsv` (\n",
    "  `Series_reference` VARCHAR(45) NOT NULL,\n",
    "  `Period` INT NOT NULL,\n",
    "  `Data_value` VARCHAR(45) NOT NULL,\n",
    "  `STATUS` VARCHAR(45) NOT NULL,\n",
    "  `Subject` VARCHAR(45) NOT NULL);\n"
   ]
  },
  {
   "cell_type": "code",
   "execution_count": null,
   "metadata": {},
   "outputs": [],
   "source": [
    "\n",
    "mydb = pymysql.connect(host='localhost',\n",
    "    user='root',\n",
    "    port=3306,                  \n",
    "    passwd='root@123',\n",
    "    db='csv_sql')\n",
    "cursor = mydb.cursor()\n",
    "\n",
    "test=cursor.execute('select * from testcsv')\n",
    "print(test)"
   ]
  },
  {
   "cell_type": "code",
   "execution_count": null,
   "metadata": {},
   "outputs": [],
   "source": [
    "\n",
    "start_time = time.clock()\n",
    "for row in df:\n",
    "\n",
    "    cursor.execute('INSERT INTO testcsv([Series_reference]\\\n",
    "    ,[Period]\\\n",
    "    ,[Data_value]\\\n",
    "    ,[STATUS]\\\n",
    "    ,[Subject])''VALUES(%s,%f,%s,%s,%s)',row)\n",
    "#close the connection to the database.\n",
    "mydb.commit()\n",
    "cursor.close()\n",
    "mydb.close()\n",
    "print(\"Data has been entered in database\")\n",
    "print(f\"Total time =\"{time.clock() - start_time}, \"seconds\")"
   ]
  },
  {
   "cell_type": "code",
   "execution_count": null,
   "metadata": {},
   "outputs": [],
   "source": []
  }
 ],
 "metadata": {
  "kernelspec": {
   "display_name": "Python 3",
   "language": "python",
   "name": "python3"
  },
  "language_info": {
   "codemirror_mode": {
    "name": "ipython",
    "version": 3
   },
   "file_extension": ".py",
   "mimetype": "text/x-python",
   "name": "python",
   "nbconvert_exporter": "python",
   "pygments_lexer": "ipython3",
   "version": "3.7.3"
  }
 },
 "nbformat": 4,
 "nbformat_minor": 2
}
